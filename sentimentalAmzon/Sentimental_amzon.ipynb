{
 "cells": [
  {
   "cell_type": "code",
   "execution_count": 1,
   "metadata": {},
   "outputs": [
    {
     "ename": "ModuleNotFoundError",
     "evalue": "No module named 'matplotlib'",
     "output_type": "error",
     "traceback": [
      "\u001b[1;31m---------------------------------------------------------------------------\u001b[0m",
      "\u001b[1;31mModuleNotFoundError\u001b[0m                       Traceback (most recent call last)",
      "Cell \u001b[1;32mIn[1], line 3\u001b[0m\n\u001b[0;32m      1\u001b[0m \u001b[38;5;28;01mimport\u001b[39;00m \u001b[38;5;21;01mpandas\u001b[39;00m \u001b[38;5;28;01mas\u001b[39;00m \u001b[38;5;21;01mpd\u001b[39;00m\n\u001b[0;32m      2\u001b[0m \u001b[38;5;28;01mimport\u001b[39;00m \u001b[38;5;21;01mnumpy\u001b[39;00m \u001b[38;5;28;01mas\u001b[39;00m \u001b[38;5;21;01mnp\u001b[39;00m\n\u001b[1;32m----> 3\u001b[0m \u001b[38;5;28;01mimport\u001b[39;00m \u001b[38;5;21;01mmatplotlib\u001b[39;00m\u001b[38;5;21;01m.\u001b[39;00m\u001b[38;5;21;01mpyplot\u001b[39;00m \u001b[38;5;28;01mas\u001b[39;00m \u001b[38;5;21;01mplt\u001b[39;00m\n\u001b[0;32m      4\u001b[0m \u001b[38;5;28;01mimport\u001b[39;00m \u001b[38;5;21;01mseaborn\u001b[39;00m \u001b[38;5;28;01mas\u001b[39;00m \u001b[38;5;21;01msns\u001b[39;00m\n\u001b[0;32m      5\u001b[0m \u001b[38;5;28;01mimport\u001b[39;00m \u001b[38;5;21;01mscipy\u001b[39;00m \u001b[38;5;28;01mas\u001b[39;00m \u001b[38;5;21;01msp\u001b[39;00m\n",
      "\u001b[1;31mModuleNotFoundError\u001b[0m: No module named 'matplotlib'"
     ]
    }
   ],
   "source": [
    "import pandas as pd\n",
    "import numpy as np\n",
    "import matplotlib.pyplot as plt\n",
    "import seaborn as sns\n",
    "import scipy as sp\n",
    "\n",
    "%matplotlib inline"
   ]
  },
  {
   "cell_type": "code",
   "execution_count": null,
   "metadata": {},
   "outputs": [],
   "source": [
    "df = pd.read_csv(\"/kaggle/input/amazon-sales-dataset/amazon.csv\")"
   ]
  },
  {
   "cell_type": "code",
   "execution_count": null,
   "metadata": {},
   "outputs": [],
   "source": [
    "pd.set_option('display.max_columns', None) "
   ]
  },
  {
   "cell_type": "code",
   "execution_count": null,
   "metadata": {},
   "outputs": [],
   "source": [
    "df.head(5)"
   ]
  },
  {
   "cell_type": "code",
   "execution_count": null,
   "metadata": {},
   "outputs": [],
   "source": [
    "df.columns"
   ]
  },
  {
   "cell_type": "code",
   "execution_count": null,
   "metadata": {},
   "outputs": [],
   "source": [
    "print(f\"The Number of Rows are {df.shape[0]}, and columns are {df.shape[1]}.\")"
   ]
  },
  {
   "cell_type": "code",
   "execution_count": null,
   "metadata": {},
   "outputs": [],
   "source": [
    "df.info()"
   ]
  },
  {
   "cell_type": "code",
   "execution_count": null,
   "metadata": {},
   "outputs": [],
   "source": [
    "df.isnull().sum()"
   ]
  },
  {
   "cell_type": "code",
   "execution_count": null,
   "metadata": {},
   "outputs": [],
   "source": [
    "df['discounted_price'] = df['discounted_price'].str.replace(\"₹\",'')\n",
    "df['discounted_price'] = df['discounted_price'].str.replace(\",\",'')\n",
    "df['discounted_price'] = df['discounted_price'].astype('float64')\n",
    "\n",
    "df['actual_price'] = df['actual_price'].str.replace(\"₹\",'')\n",
    "df['actual_price'] = df['actual_price'].str.replace(\",\",'')\n",
    "df['actual_price'] = df['actual_price'].astype('float64')\n"
   ]
  },
  {
   "cell_type": "code",
   "execution_count": null,
   "metadata": {},
   "outputs": [],
   "source": [
    "df['discount_percentage'] = df['discount_percentage'].str.replace('%','').astype('float64')\n",
    "\n",
    "df['discount_percentage'] = df['discount_percentage'] / 100"
   ]
  },
  {
   "cell_type": "code",
   "execution_count": null,
   "metadata": {},
   "outputs": [],
   "source": [
    "df['rating'].value_counts()"
   ]
  },
  {
   "cell_type": "code",
   "execution_count": null,
   "metadata": {},
   "outputs": [],
   "source": [
    "df.query('rating == \"|\"')"
   ]
  },
  {
   "cell_type": "code",
   "execution_count": null,
   "metadata": {},
   "outputs": [],
   "source": [
    "df['rating'] = df['rating'].str.replace('|', '3.9').astype('float64')"
   ]
  },
  {
   "cell_type": "code",
   "execution_count": null,
   "metadata": {},
   "outputs": [],
   "source": [
    "df['rating_count'] = df['rating_count'].str.replace(',', '').astype('float64')"
   ]
  },
  {
   "cell_type": "code",
   "execution_count": null,
   "metadata": {},
   "outputs": [],
   "source": [
    "df.info()"
   ]
  },
  {
   "cell_type": "code",
   "execution_count": null,
   "metadata": {},
   "outputs": [],
   "source": [
    "df.describe()"
   ]
  },
  {
   "cell_type": "code",
   "execution_count": null,
   "metadata": {},
   "outputs": [],
   "source": [
    "df.isnull().sum().sort_values(ascending = False)"
   ]
  },
  {
   "cell_type": "code",
   "execution_count": null,
   "metadata": {},
   "outputs": [],
   "source": [
    "round(df.isnull().sum() / len(df) * 100, 2).sort_values(ascending=False) "
   ]
  },
  {
   "cell_type": "code",
   "execution_count": null,
   "metadata": {},
   "outputs": [],
   "source": [
    "df.isnull().sum().sum()"
   ]
  },
  {
   "cell_type": "code",
   "execution_count": null,
   "metadata": {},
   "outputs": [],
   "source": [
    "plt.figure(figsize=(22, 10))\n",
    "# plot the null values in each column\n",
    "sns.heatmap(df.isnull(), yticklabels=False, cbar=False, cmap='viridis') "
   ]
  },
  {
   "cell_type": "code",
   "execution_count": null,
   "metadata": {},
   "outputs": [],
   "source": [
    "plt.figure(figsize=(22, 10))\n",
    "# plot the null values by their percentage in each column\n",
    "missing_percentage = df.isnull().sum()/len(df)*100\n",
    "missing_percentage.plot(kind='bar')\n",
    "# add the labels\n",
    "plt.xlabel('Columns')\n",
    "plt.ylabel('Percentage')\n",
    "plt.title('Percentage of Missing Values in each Column')\n"
   ]
  },
  {
   "cell_type": "code",
   "execution_count": null,
   "metadata": {},
   "outputs": [],
   "source": [
    "df[df['rating_count'].isnull()].head(5)"
   ]
  },
  {
   "cell_type": "code",
   "execution_count": null,
   "metadata": {},
   "outputs": [],
   "source": [
    "df['rating_count'] = df.rating_count.fillna(value=df['rating_count'].median())"
   ]
  },
  {
   "cell_type": "code",
   "execution_count": null,
   "metadata": {},
   "outputs": [],
   "source": [
    "df.isnull().sum().sort_values(ascending = False)"
   ]
  },
  {
   "cell_type": "code",
   "execution_count": null,
   "metadata": {},
   "outputs": [],
   "source": [
    "df.duplicated().any()"
   ]
  },
  {
   "cell_type": "code",
   "execution_count": null,
   "metadata": {},
   "outputs": [],
   "source": [
    "df.columns"
   ]
  },
  {
   "cell_type": "code",
   "execution_count": null,
   "metadata": {},
   "outputs": [],
   "source": [
    "any_duplicates = df.duplicated(subset=['product_id', 'product_name', 'category', 'discounted_price',\n",
    "       'actual_price', 'discount_percentage', 'rating', 'rating_count',\n",
    "       'about_product', 'user_id', 'user_name', 'review_id', 'review_title',\n",
    "       'review_content', 'img_link', 'product_link']).any()"
   ]
  },
  {
   "cell_type": "code",
   "execution_count": null,
   "metadata": {},
   "outputs": [],
   "source": [
    "any_duplicates"
   ]
  },
  {
   "cell_type": "code",
   "execution_count": null,
   "metadata": {},
   "outputs": [],
   "source": [
    "plt.scatter(df['actual_price'], df['rating'])\n",
    "plt.xlabel('Actual_price')\n",
    "plt.ylabel('Rating')\n",
    "plt.show()"
   ]
  },
  {
   "cell_type": "code",
   "execution_count": null,
   "metadata": {},
   "outputs": [],
   "source": [
    "import warnings\n",
    "warnings.filterwarnings('ignore')"
   ]
  },
  {
   "cell_type": "code",
   "execution_count": null,
   "metadata": {},
   "outputs": [],
   "source": [
    "plt.hist(df['actual_price'])\n",
    "plt.xlabel('Actual Price')\n",
    "plt.ylabel('Frequency')\n",
    "plt.show()"
   ]
  },
  {
   "cell_type": "code",
   "execution_count": null,
   "metadata": {},
   "outputs": [],
   "source": [
    "from sklearn.preprocessing import LabelEncoder\n",
    "# label encode categorical variables\n",
    "\n",
    "le_product_id = LabelEncoder()\n",
    "le_category = LabelEncoder()\n",
    "le_review_id = LabelEncoder()\n",
    "le_review_content = LabelEncoder()\n",
    "le_product_name = LabelEncoder()\n",
    "le_user_name = LabelEncoder()\n",
    "le_about_product = LabelEncoder()\n",
    "le_user_id = LabelEncoder()\n",
    "le_review_title = LabelEncoder()\n",
    "le_img_link = LabelEncoder()\n",
    "le_product_link = LabelEncoder()\n",
    "\n",
    "\n",
    "df['product_id'] = le_product_id.fit_transform(df['product_id'])\n",
    "df['category'] = le_category.fit_transform(df['category'])\n",
    "df['review_id'] = le_review_id.fit_transform(df['review_id'])\n",
    "df['review_content'] = le_review_content.fit_transform(df['review_content'])\n",
    "df['product_name'] = le_product_name.fit_transform(df['product_name'])\n",
    "df['user_name'] = le_user_name.fit_transform(df['user_name'])\n",
    "df['about_product'] = le_about_product.fit_transform(df['about_product'])\n",
    "df['user_id'] = le_user_id.fit_transform(df['user_id'])\n",
    "df['review_title'] = le_review_title.fit_transform(df['review_title'])\n",
    "df['img_link'] = le_img_link.fit_transform(df['img_link'])\n",
    "df['product_link'] = le_product_link.fit_transform(df['product_link'])"
   ]
  },
  {
   "cell_type": "code",
   "execution_count": null,
   "metadata": {},
   "outputs": [],
   "source": [
    "correlation_matrix = df.corr()\n",
    "sns.heatmap(correlation_matrix, annot=True)\n",
    "plt.show()"
   ]
  },
  {
   "cell_type": "code",
   "execution_count": null,
   "metadata": {},
   "outputs": [],
   "source": [
    "correlation_matrix = df.corr()\n",
    "\n",
    "# Print the correlation matrix\n",
    "print(correlation_matrix)\n",
    "\n",
    "# Create a heatmap to visualize the correlations\n",
    "sns.heatmap(correlation_matrix, annot=True, cmap=\"coolwarm\")\n",
    "plt.title(\"Correlation Matrix (Pearson)\")\n",
    "plt.show()\n",
    "\n",
    "# Calculate Spearman correlation coefficients (for non-linear relationships)\n",
    "spearman_correlation_matrix = df.corr(method=\"spearman\")\n",
    "\n",
    "# Print the Spearman correlation matrix\n",
    "print(spearman_correlation_matrix)\n",
    "\n",
    "# Create a heatmap to visualize the Spearman correlations\n",
    "sns.heatmap(spearman_correlation_matrix, annot=True, cmap=\"coolwarm\")\n",
    "plt.title(\"Correlation Matrix (Spearman)\")\n",
    "plt.show()"
   ]
  },
  {
   "cell_type": "code",
   "execution_count": null,
   "metadata": {},
   "outputs": [],
   "source": [
    "correlation_coefficient = np.corrcoef(df['actual_price'], df['rating'])[0, 1]\n",
    "\n",
    "# Print correlation coefficient\n",
    "print(correlation_coefficient)"
   ]
  },
  {
   "cell_type": "code",
   "execution_count": null,
   "metadata": {},
   "outputs": [],
   "source": [
    "grouped_df = df.groupby('category')['rating'].mean()\n",
    "\n",
    "# Print mean sales by product category\n",
    "print(grouped_df)"
   ]
  },
  {
   "cell_type": "code",
   "execution_count": null,
   "metadata": {},
   "outputs": [],
   "source": [
    "mean_sales_by_category = df.groupby('category')['rating'].mean()\n",
    "print(mean_sales_by_category)\n",
    "\n",
    "# Median rating by review_content\n",
    "median_sales_by_age = df.groupby('review_content')['rating'].median()\n",
    "print(median_sales_by_age)\n",
    "\n",
    "# Standard deviation of actual_price by product_name\n",
    "std_price_by_brand = df.groupby('product_name')['actual_price'].std()\n",
    "print(std_price_by_brand)"
   ]
  },
  {
   "cell_type": "code",
   "execution_count": null,
   "metadata": {},
   "outputs": [],
   "source": [
    "pivot_table = df.pivot_table(values='rating', index='category', columns='product_link', aggfunc='mean')\n",
    "print(pivot_table)\n",
    "\n",
    "# Pivot table of average rating_count by customer age group and product category\n",
    "pivot_table = df.pivot_table(values='rating_count', index='review_content', columns='category', aggfunc='mean')\n",
    "print(pivot_table)"
   ]
  },
  {
   "cell_type": "code",
   "execution_count": null,
   "metadata": {},
   "outputs": [],
   "source": [
    "import scipy.stats as stats\n",
    "\n",
    "# Conduct t-test to compare rating between two categories\n",
    "t_statistic, p_value = stats.ttest_ind(df[df['category'] == 'electronics']['rating'], df[df['category'] == 'clothing']['rating'])\n",
    "\n",
    "# Print t-statistic and p-value\n",
    "print(t_statistic, p_value)"
   ]
  },
  {
   "cell_type": "code",
   "execution_count": null,
   "metadata": {},
   "outputs": [],
   "source": [
    "df.info()"
   ]
  },
  {
   "cell_type": "code",
   "execution_count": null,
   "metadata": {},
   "outputs": [],
   "source": [
    "contigency_table = pd.crosstab(df['actual_price'], df['rating'])\n",
    "contigency_table"
   ]
  },
  {
   "cell_type": "code",
   "execution_count": null,
   "metadata": {},
   "outputs": [],
   "source": [
    "chi2, p, dof, expected = stats.chi2_contingency(contigency_table)\n",
    "\n",
    "# print the results\n",
    "print('Chi-square statistic:', chi2)\n",
    "print('p-value:', p)\n",
    "print('Degrees of freedom:', dof)\n",
    "print(f\"Expected:\\n {expected}\")"
   ]
  },
  {
   "cell_type": "code",
   "execution_count": null,
   "metadata": {},
   "outputs": [],
   "source": [
    "df['product_id'] = le_product_id.inverse_transform(df['product_id'])\n",
    "df['category'] = le_category.inverse_transform(df['category'])\n",
    "df['review_id'] = le_review_id.inverse_transform(df['review_id'])\n",
    "df['review_content'] = le_review_content.inverse_transform(df['review_content'])\n",
    "df['product_name'] = le_product_name.inverse_transform(df['product_name'])\n",
    "df['user_name'] = le_user_name.inverse_transform(df['user_name'])\n",
    "df['about_product'] = le_about_product.inverse_transform(df['about_product'])\n",
    "df['user_id'] = le_user_id.inverse_transform(df['user_id'])\n",
    "df['review_title'] = le_review_title.inverse_transform(df['review_title'])\n",
    "df['img_link'] = le_img_link.inverse_transform(df['img_link'])\n",
    "df['product_link'] = le_product_link.inverse_transform(df['product_link'])"
   ]
  },
  {
   "cell_type": "code",
   "execution_count": null,
   "metadata": {},
   "outputs": [],
   "source": [
    "import pandas as pd\n",
    "\n",
    "# Check the data type of the \"rating\" column\n",
    "print(df[\"rating\"].dtype)\n",
    "\n",
    "# If the data type is not numeric, convert it to numeric\n",
    "if df[\"rating\"].dtype == \"object\":\n",
    "    df[\"rating\"] = pd.to_numeric(df[\"rating\"], errors=\"coerce\")  # Handle potential errors\n",
    "\n",
    "# Calculate the average ratings after ensuring numeric data type\n",
    "average_ratings = df.groupby(\"category\")[\"rating\"].mean().reset_index()\n",
    "\n",
    "print(average_ratings)"
   ]
  },
  {
   "cell_type": "code",
   "execution_count": null,
   "metadata": {},
   "outputs": [],
   "source": [
    "import pandas as pd\n",
    "\n",
    "top_reviewed_per_category = (\n",
    "    df.groupby(\"category\")\n",
    "    .apply(lambda x: x.nlargest(10, \"rating_count\"))\n",
    "    .reset_index(drop=True)\n",
    ")\n",
    "\n",
    "print(top_reviewed_per_category)"
   ]
  },
  {
   "cell_type": "code",
   "execution_count": null,
   "metadata": {},
   "outputs": [],
   "source": [
    "import pandas as pd\n",
    "\n",
    "# Create histograms\n",
    "df[\"discounted_price\"].hist(label=\"Discounted Price\")\n",
    "df[\"actual_price\"].hist(label=\"Actual Price\")\n",
    "\n",
    "# Calculate and analyze discount percentages\n",
    "df[\"discount_percentage\"] = (df[\"actual_price\"] - df[\"discounted_price\"]) / df[\"actual_price\"] * 100\n",
    "df[\"discount_percentage\"].describe()\n",
    "df[\"discount_percentage\"].hist(label=\"Discount Percentage\")"
   ]
  },
  {
   "cell_type": "code",
   "execution_count": null,
   "metadata": {},
   "outputs": [],
   "source": [
    "avg_discount_per_category = df.groupby('category')['discount_percentage'].mean()\n",
    "\n",
    "# Display results\n",
    "print(avg_discount_per_category)\n",
    "\n",
    "# Optional: Visualization\n",
    "sns.barplot(x=avg_discount_per_category.index, y=avg_discount_per_category.values)\n",
    "plt.xlabel(\"Category\")\n",
    "plt.ylabel(\"Average Discount Percentage\")\n",
    "plt.show()"
   ]
  },
  {
   "cell_type": "code",
   "execution_count": null,
   "metadata": {},
   "outputs": [],
   "source": [
    "product_counts = df[\"product_name\"].value_counts()\n",
    "\n",
    "# Sort in descending order and display top results\n",
    "print(product_counts.sort_values(ascending=False).head(10))"
   ]
  },
  {
   "cell_type": "code",
   "execution_count": null,
   "metadata": {},
   "outputs": [],
   "source": [
    "def extract_keywords(product_name):\n",
    "  \"\"\"Extracts keywords from a product name, handling potential numbers.\"\"\"\n",
    "  if isinstance(product_name, str):  # Check if it's a string\n",
    "    keywords = product_name.lower().split()  # Split into words and lowercase\n",
    "    keywords = [word for word in keywords if word.isalpha()]  # Remove non-alphabetical characters\n",
    "  else:\n",
    "    keywords = []  # Handle non-string values (e.g., integers) by returning an empty list\n",
    "  return keywords\n",
    "\n",
    "# Apply the function to extract keywords\n",
    "df[\"keywords\"] = df[\"product_name\"].apply(extract_keywords)\n",
    "\n",
    "# Flatten the list of keywords\n",
    "all_keywords = [keyword for keywords in df[\"keywords\"] for keyword in keywords]\n",
    "\n",
    "# Count keyword occurrences\n",
    "keyword_counts = pd.Series(all_keywords).value_counts()\n",
    "\n",
    "# Display the top 10 most popular keywords\n",
    "print(keyword_counts.head(10))"
   ]
  },
  {
   "cell_type": "code",
   "execution_count": null,
   "metadata": {},
   "outputs": [],
   "source": [
    "from textblob import TextBlob  # Import TextBlob library\n",
    "# Select review column\n",
    "df[[\"product_id\", \"user_id\", \"review_content\"]]\n",
    "\n",
    "# Calculate sentiment score for each review\n",
    "df[\"sentiment\"] = df[\"review_content\"].apply(lambda text: TextBlob(text).sentiment.polarity)\n",
    "\n",
    "# Sort by sentiment score (ascending for positive)\n",
    "df_sorted = df.sort_values(by=\"sentiment\", ascending=True)\n",
    "\n",
    "# Display top reviews based on a desired number (e.g., top 10)\n",
    "top_reviews = df_sorted.head(10)\n",
    "print(top_reviews)"
   ]
  },
  {
   "cell_type": "code",
   "execution_count": null,
   "metadata": {},
   "outputs": [],
   "source": [
    "correlation_coefficient = df[\"discounted_price\"].corr(df[\"rating\"])\n",
    "\n",
    "# Print the correlation coefficient with two decimal places\n",
    "print(f\"Correlation between discounted_price and rating: {correlation_coefficient:.2f}\")"
   ]
  },
  {
   "cell_type": "code",
   "execution_count": null,
   "metadata": {},
   "outputs": [],
   "source": [
    "average_ratings = df.groupby(\"category\")[\"rating\"].mean().reset_index()\n",
    "\n",
    "# Sort by average rating in descending order\n",
    "average_ratings = average_ratings.sort_values(by=\"rating\", ascending=False)\n",
    "\n",
    "# Print the top 5 categories\n",
    "print(\"Top 5 categories with highest average ratings:\")\n",
    "for i in range(5):\n",
    "    category = average_ratings.iloc[i][\"category\"]\n",
    "    average_rating = average_ratings.iloc[i][\"rating\"]\n",
    "    print(f\"{i+1}. {category}: {average_rating:.2f}\")"
   ]
  }
 ],
 "metadata": {
  "kernelspec": {
   "display_name": "Python 3",
   "language": "python",
   "name": "python3"
  },
  "language_info": {
   "codemirror_mode": {
    "name": "ipython",
    "version": 3
   },
   "file_extension": ".py",
   "mimetype": "text/x-python",
   "name": "python",
   "nbconvert_exporter": "python",
   "pygments_lexer": "ipython3",
   "version": "3.12.0"
  }
 },
 "nbformat": 4,
 "nbformat_minor": 2
}
